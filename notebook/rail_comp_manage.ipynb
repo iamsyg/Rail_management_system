{
 "cells": [
  {
   "cell_type": "code",
   "execution_count": 1,
   "metadata": {},
   "outputs": [],
   "source": [
    "import pandas as pd\n",
    "import re \n",
    "import string \n",
    "import pickle\n",
    "\n",
    "from sklearn.feature_extraction.text import TfidfVectorizer\n",
    "\n",
    "from sklearn.linear_model import LogisticRegression\n",
    "\n",
    "import nltk\n",
    "from nltk.corpus import stopwords\n",
    "from nltk.tokenize import word_tokenize\n",
    "from nltk.stem import WordNetLemmatizer"
   ]
  },
  {
   "cell_type": "code",
   "execution_count": 2,
   "metadata": {},
   "outputs": [
    {
     "name": "stderr",
     "output_type": "stream",
     "text": [
      "[nltk_data] Downloading package stopwords to /home/nihar/nltk_data...\n",
      "[nltk_data]   Package stopwords is already up-to-date!\n",
      "[nltk_data] Downloading package punkt to /home/nihar/nltk_data...\n",
      "[nltk_data]   Package punkt is already up-to-date!\n",
      "[nltk_data] Downloading package wordnet to /home/nihar/nltk_data...\n",
      "[nltk_data]   Package wordnet is already up-to-date!\n"
     ]
    }
   ],
   "source": [
    "# Download necessary NLTK resources\n",
    "nltk.download('stopwords')\n",
    "nltk.download('punkt')\n",
    "nltk.download('wordnet')\n",
    "\n",
    "stop_words = set(stopwords.words('english'))\n",
    "lemmatizer = WordNetLemmatizer()"
   ]
  },
  {
   "cell_type": "code",
   "execution_count": 3,
   "metadata": {},
   "outputs": [],
   "source": [
    "data = pd.read_csv('./data/dataset.csv', encoding=\"latin-1\")"
   ]
  },
  {
   "cell_type": "code",
   "execution_count": 4,
   "metadata": {},
   "outputs": [
    {
     "data": {
      "text/html": [
       "<div>\n",
       "<style scoped>\n",
       "    .dataframe tbody tr th:only-of-type {\n",
       "        vertical-align: middle;\n",
       "    }\n",
       "\n",
       "    .dataframe tbody tr th {\n",
       "        vertical-align: top;\n",
       "    }\n",
       "\n",
       "    .dataframe thead th {\n",
       "        text-align: right;\n",
       "    }\n",
       "</style>\n",
       "<table border=\"1\" class=\"dataframe\">\n",
       "  <thead>\n",
       "    <tr style=\"text-align: right;\">\n",
       "      <th></th>\n",
       "      <th>ï»¿Item ID</th>\n",
       "      <th>Sentiment</th>\n",
       "      <th>SentimentText</th>\n",
       "    </tr>\n",
       "  </thead>\n",
       "  <tbody>\n",
       "    <tr>\n",
       "      <th>0</th>\n",
       "      <td>1</td>\n",
       "      <td>0</td>\n",
       "      <td>@RailMinIndia My PNR is 8348062961, I am in wa...</td>\n",
       "    </tr>\n",
       "    <tr>\n",
       "      <th>1</th>\n",
       "      <td>2</td>\n",
       "      <td>0</td>\n",
       "      <td>@sureshpprabhu @RailMinIndia AC not working in...</td>\n",
       "    </tr>\n",
       "    <tr>\n",
       "      <th>2</th>\n",
       "      <td>3</td>\n",
       "      <td>0</td>\n",
       "      <td>@RailMinIndia I'm traveling to chennai by trai...</td>\n",
       "    </tr>\n",
       "    <tr>\n",
       "      <th>3</th>\n",
       "      <td>4</td>\n",
       "      <td>5</td>\n",
       "      <td>@RailMinIndia irctc is not responding at the t...</td>\n",
       "    </tr>\n",
       "    <tr>\n",
       "      <th>4</th>\n",
       "      <td>5</td>\n",
       "      <td>7</td>\n",
       "      <td>@DRMbhopal @RailMinIndia @sanjaygupta2012 @drm...</td>\n",
       "    </tr>\n",
       "  </tbody>\n",
       "</table>\n",
       "</div>"
      ],
      "text/plain": [
       "   ï»¿Item ID  Sentiment                                      SentimentText\n",
       "0           1          0  @RailMinIndia My PNR is 8348062961, I am in wa...\n",
       "1           2          0  @sureshpprabhu @RailMinIndia AC not working in...\n",
       "2           3          0  @RailMinIndia I'm traveling to chennai by trai...\n",
       "3           4          5  @RailMinIndia irctc is not responding at the t...\n",
       "4           5          7  @DRMbhopal @RailMinIndia @sanjaygupta2012 @drm..."
      ]
     },
     "execution_count": 4,
     "metadata": {},
     "output_type": "execute_result"
    }
   ],
   "source": [
    "data.head()"
   ]
  },
  {
   "cell_type": "code",
   "execution_count": 5,
   "metadata": {},
   "outputs": [
    {
     "name": "stdout",
     "output_type": "stream",
     "text": [
      "<class 'pandas.core.frame.DataFrame'>\n",
      "RangeIndex: 1366 entries, 0 to 1365\n",
      "Data columns (total 3 columns):\n",
      " #   Column         Non-Null Count  Dtype \n",
      "---  ------         --------------  ----- \n",
      " 0   ï»¿Item ID     1366 non-null   int64 \n",
      " 1   Sentiment      1366 non-null   int64 \n",
      " 2   SentimentText  1366 non-null   object\n",
      "dtypes: int64(2), object(1)\n",
      "memory usage: 32.1+ KB\n"
     ]
    }
   ],
   "source": [
    "data.info()"
   ]
  },
  {
   "cell_type": "code",
   "execution_count": 6,
   "metadata": {},
   "outputs": [
    {
     "data": {
      "text/plain": [
       "ï»¿Item ID       0\n",
       "Sentiment        0\n",
       "SentimentText    0\n",
       "dtype: int64"
      ]
     },
     "execution_count": 6,
     "metadata": {},
     "output_type": "execute_result"
    }
   ],
   "source": [
    "data.isnull().sum()"
   ]
  },
  {
   "cell_type": "code",
   "execution_count": 7,
   "metadata": {},
   "outputs": [],
   "source": [
    "data.rename(columns={\"ï»¿Item ID\": \"Item ID\"}, inplace=True)"
   ]
  },
  {
   "cell_type": "code",
   "execution_count": 8,
   "metadata": {},
   "outputs": [
    {
     "data": {
      "text/html": [
       "<div>\n",
       "<style scoped>\n",
       "    .dataframe tbody tr th:only-of-type {\n",
       "        vertical-align: middle;\n",
       "    }\n",
       "\n",
       "    .dataframe tbody tr th {\n",
       "        vertical-align: top;\n",
       "    }\n",
       "\n",
       "    .dataframe thead th {\n",
       "        text-align: right;\n",
       "    }\n",
       "</style>\n",
       "<table border=\"1\" class=\"dataframe\">\n",
       "  <thead>\n",
       "    <tr style=\"text-align: right;\">\n",
       "      <th></th>\n",
       "      <th>Item ID</th>\n",
       "      <th>Sentiment</th>\n",
       "      <th>SentimentText</th>\n",
       "    </tr>\n",
       "  </thead>\n",
       "  <tbody>\n",
       "    <tr>\n",
       "      <th>0</th>\n",
       "      <td>1</td>\n",
       "      <td>0</td>\n",
       "      <td>@RailMinIndia My PNR is 8348062961, I am in wa...</td>\n",
       "    </tr>\n",
       "    <tr>\n",
       "      <th>1</th>\n",
       "      <td>2</td>\n",
       "      <td>0</td>\n",
       "      <td>@sureshpprabhu @RailMinIndia AC not working in...</td>\n",
       "    </tr>\n",
       "    <tr>\n",
       "      <th>2</th>\n",
       "      <td>3</td>\n",
       "      <td>0</td>\n",
       "      <td>@RailMinIndia I'm traveling to chennai by trai...</td>\n",
       "    </tr>\n",
       "    <tr>\n",
       "      <th>3</th>\n",
       "      <td>4</td>\n",
       "      <td>5</td>\n",
       "      <td>@RailMinIndia irctc is not responding at the t...</td>\n",
       "    </tr>\n",
       "    <tr>\n",
       "      <th>4</th>\n",
       "      <td>5</td>\n",
       "      <td>7</td>\n",
       "      <td>@DRMbhopal @RailMinIndia @sanjaygupta2012 @drm...</td>\n",
       "    </tr>\n",
       "  </tbody>\n",
       "</table>\n",
       "</div>"
      ],
      "text/plain": [
       "   Item ID  Sentiment                                      SentimentText\n",
       "0        1          0  @RailMinIndia My PNR is 8348062961, I am in wa...\n",
       "1        2          0  @sureshpprabhu @RailMinIndia AC not working in...\n",
       "2        3          0  @RailMinIndia I'm traveling to chennai by trai...\n",
       "3        4          5  @RailMinIndia irctc is not responding at the t...\n",
       "4        5          7  @DRMbhopal @RailMinIndia @sanjaygupta2012 @drm..."
      ]
     },
     "execution_count": 8,
     "metadata": {},
     "output_type": "execute_result"
    }
   ],
   "source": [
    "data.head()"
   ]
  },
  {
   "cell_type": "code",
   "execution_count": null,
   "metadata": {},
   "outputs": [],
   "source": [
    "#data['SentimentText_Copy'] = data['SentimentText']  "
   ]
  },
  {
   "cell_type": "code",
   "execution_count": 9,
   "metadata": {},
   "outputs": [
    {
     "data": {
      "text/html": [
       "<div>\n",
       "<style scoped>\n",
       "    .dataframe tbody tr th:only-of-type {\n",
       "        vertical-align: middle;\n",
       "    }\n",
       "\n",
       "    .dataframe tbody tr th {\n",
       "        vertical-align: top;\n",
       "    }\n",
       "\n",
       "    .dataframe thead th {\n",
       "        text-align: right;\n",
       "    }\n",
       "</style>\n",
       "<table border=\"1\" class=\"dataframe\">\n",
       "  <thead>\n",
       "    <tr style=\"text-align: right;\">\n",
       "      <th></th>\n",
       "      <th>Item ID</th>\n",
       "      <th>Sentiment</th>\n",
       "      <th>SentimentText</th>\n",
       "    </tr>\n",
       "  </thead>\n",
       "  <tbody>\n",
       "    <tr>\n",
       "      <th>0</th>\n",
       "      <td>1</td>\n",
       "      <td>0</td>\n",
       "      <td>@RailMinIndia My PNR is 8348062961, I am in wa...</td>\n",
       "    </tr>\n",
       "    <tr>\n",
       "      <th>1</th>\n",
       "      <td>2</td>\n",
       "      <td>0</td>\n",
       "      <td>@sureshpprabhu @RailMinIndia AC not working in...</td>\n",
       "    </tr>\n",
       "    <tr>\n",
       "      <th>2</th>\n",
       "      <td>3</td>\n",
       "      <td>0</td>\n",
       "      <td>@RailMinIndia I'm traveling to chennai by trai...</td>\n",
       "    </tr>\n",
       "    <tr>\n",
       "      <th>3</th>\n",
       "      <td>4</td>\n",
       "      <td>5</td>\n",
       "      <td>@RailMinIndia irctc is not responding at the t...</td>\n",
       "    </tr>\n",
       "    <tr>\n",
       "      <th>4</th>\n",
       "      <td>5</td>\n",
       "      <td>7</td>\n",
       "      <td>@DRMbhopal @RailMinIndia @sanjaygupta2012 @drm...</td>\n",
       "    </tr>\n",
       "  </tbody>\n",
       "</table>\n",
       "</div>"
      ],
      "text/plain": [
       "   Item ID  Sentiment                                      SentimentText\n",
       "0        1          0  @RailMinIndia My PNR is 8348062961, I am in wa...\n",
       "1        2          0  @sureshpprabhu @RailMinIndia AC not working in...\n",
       "2        3          0  @RailMinIndia I'm traveling to chennai by trai...\n",
       "3        4          5  @RailMinIndia irctc is not responding at the t...\n",
       "4        5          7  @DRMbhopal @RailMinIndia @sanjaygupta2012 @drm..."
      ]
     },
     "execution_count": 9,
     "metadata": {},
     "output_type": "execute_result"
    }
   ],
   "source": [
    "data.head()"
   ]
  },
  {
   "cell_type": "code",
   "execution_count": 12,
   "metadata": {},
   "outputs": [],
   "source": [
    "# df['SentimentText_Copy'] = df['SentimentText_Copy'].str.replace(r'@\\w+', '', regex=True).str.strip()\n",
    "#df['SentimentText_Copy'] = df['SentimentText_Copy'].str.replace(r'\\d+', '', regex=True).str.strip()\n",
    "#df['SentimentText_Copy'] = df['SentimentText_Copy'].str.replace(r'[^a-zA-Z0-9\\s]', '', regex=True).str.strip() "
   ]
  },
  {
   "cell_type": "code",
   "execution_count": 10,
   "metadata": {},
   "outputs": [
    {
     "name": "stdout",
     "output_type": "stream",
     "text": [
      " My PNR is 8348062961, I am in way but there is no water in toilet and mess is everywhere in coach. please provide basic facil.\n"
     ]
    }
   ],
   "source": [
    "text = re.sub(r'@\\w+' , '' , '@RailMinIndia My PNR is 8348062961, I am in way but there is no water in toilet and mess is everywhere in coach. please provide basic facil.')\n",
    "print(text)"
   ]
  },
  {
   "cell_type": "code",
   "execution_count": 14,
   "metadata": {},
   "outputs": [
    {
     "name": "stdout",
     "output_type": "stream",
     "text": [
      " My PNR is , I am in way but there is no water in toilet and mess is everywhere in coach. please provide basic facil.\n"
     ]
    }
   ],
   "source": [
    "text = re.sub(r'\\d+', '', text)\n",
    "print(text)"
   ]
  },
  {
   "cell_type": "code",
   "execution_count": 15,
   "metadata": {},
   "outputs": [
    {
     "name": "stdout",
     "output_type": "stream",
     "text": [
      " My PNR is  I am in way but there is no water in toilet and mess is everywhere in coach please provide basic facil\n"
     ]
    }
   ],
   "source": [
    "text = text.translate(str.maketrans('', '', string.punctuation))\n",
    "print(text)"
   ]
  },
  {
   "cell_type": "code",
   "execution_count": 16,
   "metadata": {},
   "outputs": [
    {
     "name": "stdout",
     "output_type": "stream",
     "text": [
      " my pnr is  i am in way but there is no water in toilet and mess is everywhere in coach please provide basic facil\n"
     ]
    }
   ],
   "source": [
    "text = text.lower()\n",
    "print(text)"
   ]
  },
  {
   "cell_type": "code",
   "execution_count": 17,
   "metadata": {},
   "outputs": [
    {
     "name": "stdout",
     "output_type": "stream",
     "text": [
      "['my', 'pnr', 'is', 'i', 'am', 'in', 'way', 'but', 'there', 'is', 'no', 'water', 'in', 'toilet', 'and', 'mess', 'is', 'everywhere', 'in', 'coach', 'please', 'provide', 'basic', 'facil']\n"
     ]
    }
   ],
   "source": [
    "tokens = word_tokenize(text)\n",
    "print(tokens)"
   ]
  },
  {
   "cell_type": "code",
   "execution_count": 18,
   "metadata": {},
   "outputs": [],
   "source": [
    "lemmatizer = WordNetLemmatizer()\n",
    "stop_words = stopwords.words('english')"
   ]
  },
  {
   "cell_type": "code",
   "execution_count": 19,
   "metadata": {},
   "outputs": [
    {
     "name": "stdout",
     "output_type": "stream",
     "text": [
      "<class 'list'>\n"
     ]
    }
   ],
   "source": [
    "print(type(stop_words))"
   ]
  },
  {
   "cell_type": "code",
   "execution_count": 20,
   "metadata": {},
   "outputs": [
    {
     "name": "stdout",
     "output_type": "stream",
     "text": [
      "['pnr', 'way', 'water', 'toilet', 'mess', 'everywhere', 'coach', 'please', 'provide', 'basic', 'facil']\n"
     ]
    }
   ],
   "source": [
    "cleaned_tokens = [lemmatizer.lemmatize(word) for word in tokens if word not in stop_words]\n",
    "print(cleaned_tokens)"
   ]
  },
  {
   "cell_type": "code",
   "execution_count": 11,
   "metadata": {},
   "outputs": [],
   "source": [
    "def clean_text(text):\n",
    "    # handeling the null value\n",
    "    if pd.isna(text):\n",
    "        return \"\"\n",
    "    \n",
    "    text = re.sub(r'@\\w+' , '', text) # removing mentions (@)\n",
    "    text = re.sub(r'\\d+','',text) # removing numbers\n",
    "    text = re.sub(r\"[^\\w\\s]\",'',text) # removing punctuation \n",
    "    \n",
    "    # removing special characters and punctuation (!\"#$%&'()*+,-./:;<=>?@[\\]^_`{|}~)\n",
    "    # cleaned_text = text.translate(str.maketrans('','',string.punctuation))\n",
    "    \n",
    "    # cleaned_text.lower()\n",
    "        \n",
    "    \n",
    "    #tokeniztion\n",
    "    tokens  = word_tokenize(text)\n",
    "    \n",
    "    # lemmentization (converting words to their root form)                \n",
    "    cleaned_tokens= [lemmatizer.lemmatize(word) for word in tokens if word not in stop_words] \n",
    "    cleaned_token = [word.lower() for word in cleaned_tokens ]\n",
    "    \n",
    "    return ' '.join(cleaned_token)\n",
    "        "
   ]
  },
  {
   "cell_type": "code",
   "execution_count": null,
   "metadata": {},
   "outputs": [],
   "source": []
  },
  {
   "cell_type": "code",
   "execution_count": 22,
   "metadata": {},
   "outputs": [],
   "source": [
    "#for sentence in data['SentimentText']:\n",
    " #   data['clean'] = clean_text(sentence)"
   ]
  },
  {
   "cell_type": "code",
   "execution_count": 12,
   "metadata": {},
   "outputs": [],
   "source": [
    "data['Clean_text'] = data['SentimentText'].apply(clean_text)"
   ]
  },
  {
   "cell_type": "code",
   "execution_count": null,
   "metadata": {},
   "outputs": [],
   "source": [
    "#data = data.drop(columns='SentimentText_Copy')"
   ]
  },
  {
   "cell_type": "code",
   "execution_count": 14,
   "metadata": {},
   "outputs": [
    {
     "data": {
      "text/html": [
       "<div>\n",
       "<style scoped>\n",
       "    .dataframe tbody tr th:only-of-type {\n",
       "        vertical-align: middle;\n",
       "    }\n",
       "\n",
       "    .dataframe tbody tr th {\n",
       "        vertical-align: top;\n",
       "    }\n",
       "\n",
       "    .dataframe thead th {\n",
       "        text-align: right;\n",
       "    }\n",
       "</style>\n",
       "<table border=\"1\" class=\"dataframe\">\n",
       "  <thead>\n",
       "    <tr style=\"text-align: right;\">\n",
       "      <th></th>\n",
       "      <th>Item ID</th>\n",
       "      <th>Sentiment</th>\n",
       "      <th>SentimentText</th>\n",
       "      <th>Clean_text</th>\n",
       "    </tr>\n",
       "  </thead>\n",
       "  <tbody>\n",
       "    <tr>\n",
       "      <th>0</th>\n",
       "      <td>1</td>\n",
       "      <td>0</td>\n",
       "      <td>@RailMinIndia My PNR is 8348062961, I am in wa...</td>\n",
       "      <td>my pnr i way water toilet mess everywhere coac...</td>\n",
       "    </tr>\n",
       "    <tr>\n",
       "      <th>1</th>\n",
       "      <td>2</td>\n",
       "      <td>0</td>\n",
       "      <td>@sureshpprabhu @RailMinIndia AC not working in...</td>\n",
       "      <td>ac working prayag lucknow intercity today depa...</td>\n",
       "    </tr>\n",
       "    <tr>\n",
       "      <th>2</th>\n",
       "      <td>3</td>\n",
       "      <td>0</td>\n",
       "      <td>@RailMinIndia I'm traveling to chennai by trai...</td>\n",
       "      <td>im traveling chennai train coach s my berth di...</td>\n",
       "    </tr>\n",
       "    <tr>\n",
       "      <th>3</th>\n",
       "      <td>4</td>\n",
       "      <td>5</td>\n",
       "      <td>@RailMinIndia irctc is not responding at the t...</td>\n",
       "      <td>irctc responding time tatkal booking</td>\n",
       "    </tr>\n",
       "    <tr>\n",
       "      <th>4</th>\n",
       "      <td>5</td>\n",
       "      <td>7</td>\n",
       "      <td>@DRMbhopal @RailMinIndia @sanjaygupta2012 @drm...</td>\n",
       "      <td>matter notified concerned official</td>\n",
       "    </tr>\n",
       "  </tbody>\n",
       "</table>\n",
       "</div>"
      ],
      "text/plain": [
       "   Item ID  Sentiment                                      SentimentText  \\\n",
       "0        1          0  @RailMinIndia My PNR is 8348062961, I am in wa...   \n",
       "1        2          0  @sureshpprabhu @RailMinIndia AC not working in...   \n",
       "2        3          0  @RailMinIndia I'm traveling to chennai by trai...   \n",
       "3        4          5  @RailMinIndia irctc is not responding at the t...   \n",
       "4        5          7  @DRMbhopal @RailMinIndia @sanjaygupta2012 @drm...   \n",
       "\n",
       "                                          Clean_text  \n",
       "0  my pnr i way water toilet mess everywhere coac...  \n",
       "1  ac working prayag lucknow intercity today depa...  \n",
       "2  im traveling chennai train coach s my berth di...  \n",
       "3               irctc responding time tatkal booking  \n",
       "4                 matter notified concerned official  "
      ]
     },
     "execution_count": 14,
     "metadata": {},
     "output_type": "execute_result"
    }
   ],
   "source": [
    "data.head()"
   ]
  },
  {
   "cell_type": "code",
   "execution_count": null,
   "metadata": {},
   "outputs": [],
   "source": [
    "# data.to_csv('clean_data.csv',index=False)"
   ]
  },
  {
   "cell_type": "code",
   "execution_count": 15,
   "metadata": {},
   "outputs": [
    {
     "name": "stdout",
     "output_type": "stream",
     "text": [
      "0       my pnr i way water toilet mess everywhere coac...\n",
      "1       ac working prayag lucknow intercity today depa...\n",
      "2       im traveling chennai train coach s my berth di...\n",
      "3                    irctc responding time tatkal booking\n",
      "4                      matter notified concerned official\n",
      "                              ...                        \n",
      "1361    an aged lady alloted upper berth train pnr kin...\n",
      "1362    aggressive copassengers need immediate change ...\n",
      "1363    water coachplease somethingtrain coach bjammut...\n",
      "1364    while travelling train noname duronto expressu...\n",
      "1365                                      httpstcofpfsdcj\n",
      "Name: Clean_text, Length: 1366, dtype: object\n"
     ]
    }
   ],
   "source": [
    "print(data['Clean_text'])"
   ]
  },
  {
   "cell_type": "code",
   "execution_count": 16,
   "metadata": {},
   "outputs": [
    {
     "data": {
      "text/html": [
       "<div>\n",
       "<style scoped>\n",
       "    .dataframe tbody tr th:only-of-type {\n",
       "        vertical-align: middle;\n",
       "    }\n",
       "\n",
       "    .dataframe tbody tr th {\n",
       "        vertical-align: top;\n",
       "    }\n",
       "\n",
       "    .dataframe thead th {\n",
       "        text-align: right;\n",
       "    }\n",
       "</style>\n",
       "<table border=\"1\" class=\"dataframe\">\n",
       "  <thead>\n",
       "    <tr style=\"text-align: right;\">\n",
       "      <th></th>\n",
       "      <th>Item ID</th>\n",
       "      <th>Sentiment</th>\n",
       "      <th>SentimentText</th>\n",
       "      <th>Clean_text</th>\n",
       "    </tr>\n",
       "  </thead>\n",
       "  <tbody>\n",
       "    <tr>\n",
       "      <th>0</th>\n",
       "      <td>1</td>\n",
       "      <td>0</td>\n",
       "      <td>@RailMinIndia My PNR is 8348062961, I am in wa...</td>\n",
       "      <td>my pnr i way water toilet mess everywhere coac...</td>\n",
       "    </tr>\n",
       "    <tr>\n",
       "      <th>1</th>\n",
       "      <td>2</td>\n",
       "      <td>0</td>\n",
       "      <td>@sureshpprabhu @RailMinIndia AC not working in...</td>\n",
       "      <td>ac working prayag lucknow intercity today depa...</td>\n",
       "    </tr>\n",
       "    <tr>\n",
       "      <th>2</th>\n",
       "      <td>3</td>\n",
       "      <td>0</td>\n",
       "      <td>@RailMinIndia I'm traveling to chennai by trai...</td>\n",
       "      <td>im traveling chennai train coach s my berth di...</td>\n",
       "    </tr>\n",
       "    <tr>\n",
       "      <th>3</th>\n",
       "      <td>4</td>\n",
       "      <td>5</td>\n",
       "      <td>@RailMinIndia irctc is not responding at the t...</td>\n",
       "      <td>irctc responding time tatkal booking</td>\n",
       "    </tr>\n",
       "    <tr>\n",
       "      <th>4</th>\n",
       "      <td>5</td>\n",
       "      <td>7</td>\n",
       "      <td>@DRMbhopal @RailMinIndia @sanjaygupta2012 @drm...</td>\n",
       "      <td>matter notified concerned official</td>\n",
       "    </tr>\n",
       "  </tbody>\n",
       "</table>\n",
       "</div>"
      ],
      "text/plain": [
       "   Item ID  Sentiment                                      SentimentText  \\\n",
       "0        1          0  @RailMinIndia My PNR is 8348062961, I am in wa...   \n",
       "1        2          0  @sureshpprabhu @RailMinIndia AC not working in...   \n",
       "2        3          0  @RailMinIndia I'm traveling to chennai by trai...   \n",
       "3        4          5  @RailMinIndia irctc is not responding at the t...   \n",
       "4        5          7  @DRMbhopal @RailMinIndia @sanjaygupta2012 @drm...   \n",
       "\n",
       "                                          Clean_text  \n",
       "0  my pnr i way water toilet mess everywhere coac...  \n",
       "1  ac working prayag lucknow intercity today depa...  \n",
       "2  im traveling chennai train coach s my berth di...  \n",
       "3               irctc responding time tatkal booking  \n",
       "4                 matter notified concerned official  "
      ]
     },
     "execution_count": 16,
     "metadata": {},
     "output_type": "execute_result"
    }
   ],
   "source": [
    "data.head()"
   ]
  },
  {
   "cell_type": "code",
   "execution_count": 18,
   "metadata": {},
   "outputs": [
    {
     "data": {
      "text/html": [
       "<div>\n",
       "<style scoped>\n",
       "    .dataframe tbody tr th:only-of-type {\n",
       "        vertical-align: middle;\n",
       "    }\n",
       "\n",
       "    .dataframe tbody tr th {\n",
       "        vertical-align: top;\n",
       "    }\n",
       "\n",
       "    .dataframe thead th {\n",
       "        text-align: right;\n",
       "    }\n",
       "</style>\n",
       "<table border=\"1\" class=\"dataframe\">\n",
       "  <thead>\n",
       "    <tr style=\"text-align: right;\">\n",
       "      <th></th>\n",
       "      <th>Item ID</th>\n",
       "      <th>Sentiment</th>\n",
       "      <th>SentimentText</th>\n",
       "      <th>Clean_text</th>\n",
       "    </tr>\n",
       "  </thead>\n",
       "  <tbody>\n",
       "    <tr>\n",
       "      <th>0</th>\n",
       "      <td>1</td>\n",
       "      <td>0</td>\n",
       "      <td>@RailMinIndia My PNR is 8348062961, I am in wa...</td>\n",
       "      <td>my pnr i way water toilet mess everywhere coac...</td>\n",
       "    </tr>\n",
       "    <tr>\n",
       "      <th>1</th>\n",
       "      <td>2</td>\n",
       "      <td>0</td>\n",
       "      <td>@sureshpprabhu @RailMinIndia AC not working in...</td>\n",
       "      <td>ac working prayag lucknow intercity today depa...</td>\n",
       "    </tr>\n",
       "    <tr>\n",
       "      <th>2</th>\n",
       "      <td>3</td>\n",
       "      <td>0</td>\n",
       "      <td>@RailMinIndia I'm traveling to chennai by trai...</td>\n",
       "      <td>im traveling chennai train coach s my berth di...</td>\n",
       "    </tr>\n",
       "    <tr>\n",
       "      <th>3</th>\n",
       "      <td>4</td>\n",
       "      <td>5</td>\n",
       "      <td>@RailMinIndia irctc is not responding at the t...</td>\n",
       "      <td>irctc responding time tatkal booking</td>\n",
       "    </tr>\n",
       "    <tr>\n",
       "      <th>4</th>\n",
       "      <td>5</td>\n",
       "      <td>7</td>\n",
       "      <td>@DRMbhopal @RailMinIndia @sanjaygupta2012 @drm...</td>\n",
       "      <td>matter notified concerned official</td>\n",
       "    </tr>\n",
       "  </tbody>\n",
       "</table>\n",
       "</div>"
      ],
      "text/plain": [
       "   Item ID  Sentiment                                      SentimentText  \\\n",
       "0        1          0  @RailMinIndia My PNR is 8348062961, I am in wa...   \n",
       "1        2          0  @sureshpprabhu @RailMinIndia AC not working in...   \n",
       "2        3          0  @RailMinIndia I'm traveling to chennai by trai...   \n",
       "3        4          5  @RailMinIndia irctc is not responding at the t...   \n",
       "4        5          7  @DRMbhopal @RailMinIndia @sanjaygupta2012 @drm...   \n",
       "\n",
       "                                          Clean_text  \n",
       "0  my pnr i way water toilet mess everywhere coac...  \n",
       "1  ac working prayag lucknow intercity today depa...  \n",
       "2  im traveling chennai train coach s my berth di...  \n",
       "3               irctc responding time tatkal booking  \n",
       "4                 matter notified concerned official  "
      ]
     },
     "execution_count": 18,
     "metadata": {},
     "output_type": "execute_result"
    }
   ],
   "source": [
    "data.head()"
   ]
  },
  {
   "cell_type": "code",
   "execution_count": 19,
   "metadata": {},
   "outputs": [
    {
     "name": "stdout",
     "output_type": "stream",
     "text": [
      "train no there is no proper water service in train kindly look into matter httpstcoviqmurihk\n"
     ]
    }
   ],
   "source": [
    "print(clean_text('@RailMinIndia  TRAIN NO 12656 THERE IS NO PROPER WATER SERVICE IN TRAIN KINDLY LOOK INTO MATTER.. https://t.co/VIQmURi8HK'))"
   ]
  },
  {
   "cell_type": "code",
   "execution_count": 20,
   "metadata": {},
   "outputs": [],
   "source": [
    "tfidf_vectorizer = TfidfVectorizer(max_features = 5000 , stop_words = 'english')"
   ]
  },
  {
   "cell_type": "code",
   "execution_count": 21,
   "metadata": {},
   "outputs": [],
   "source": [
    "X_tfidf = tfidf_vectorizer.fit_transform(data['Clean_text'])\n",
    "\n",
    "X_tfidf = X_tfidf.toarray()\n",
    "\n",
    "column_names = tfidf_vectorizer.get_feature_names_out()\n",
    "\n",
    "tfidf_df = pd.DataFrame(X_tfidf , columns=column_names)\n",
    "\n"
   ]
  },
  {
   "cell_type": "code",
   "execution_count": 22,
   "metadata": {},
   "outputs": [],
   "source": [
    "X_tfidf = tfidf_vectorizer.fit_transform(data['Clean_text'])\n",
    "\n",
    "X_tfidf = X_tfidf.toarray()"
   ]
  },
  {
   "cell_type": "code",
   "execution_count": 23,
   "metadata": {},
   "outputs": [
    {
     "name": "stdout",
     "output_type": "stream",
     "text": [
      "[[0. 0. 0. ... 0. 0. 0.]\n",
      " [0. 0. 0. ... 0. 0. 0.]\n",
      " [0. 0. 0. ... 0. 0. 0.]\n",
      " ...\n",
      " [0. 0. 0. ... 0. 0. 0.]\n",
      " [0. 0. 0. ... 0. 0. 0.]\n",
      " [0. 0. 0. ... 0. 0. 0.]]\n"
     ]
    }
   ],
   "source": [
    "print(X_tfidf)"
   ]
  },
  {
   "cell_type": "code",
   "execution_count": 24,
   "metadata": {},
   "outputs": [
    {
     "data": {
      "text/plain": [
       "(1366, 3884)"
      ]
     },
     "execution_count": 24,
     "metadata": {},
     "output_type": "execute_result"
    }
   ],
   "source": [
    "tfidf_df.shape"
   ]
  },
  {
   "cell_type": "code",
   "execution_count": 25,
   "metadata": {},
   "outputs": [
    {
     "data": {
      "text/html": [
       "<div>\n",
       "<style scoped>\n",
       "    .dataframe tbody tr th:only-of-type {\n",
       "        vertical-align: middle;\n",
       "    }\n",
       "\n",
       "    .dataframe tbody tr th {\n",
       "        vertical-align: top;\n",
       "    }\n",
       "\n",
       "    .dataframe thead th {\n",
       "        text-align: right;\n",
       "    }\n",
       "</style>\n",
       "<table border=\"1\" class=\"dataframe\">\n",
       "  <thead>\n",
       "    <tr style=\"text-align: right;\">\n",
       "      <th></th>\n",
       "      <th>Item ID</th>\n",
       "      <th>Sentiment</th>\n",
       "      <th>SentimentText</th>\n",
       "      <th>Clean_text</th>\n",
       "    </tr>\n",
       "  </thead>\n",
       "  <tbody>\n",
       "    <tr>\n",
       "      <th>0</th>\n",
       "      <td>1</td>\n",
       "      <td>0</td>\n",
       "      <td>@RailMinIndia My PNR is 8348062961, I am in wa...</td>\n",
       "      <td>my pnr i way water toilet mess everywhere coac...</td>\n",
       "    </tr>\n",
       "    <tr>\n",
       "      <th>1</th>\n",
       "      <td>2</td>\n",
       "      <td>0</td>\n",
       "      <td>@sureshpprabhu @RailMinIndia AC not working in...</td>\n",
       "      <td>ac working prayag lucknow intercity today depa...</td>\n",
       "    </tr>\n",
       "    <tr>\n",
       "      <th>2</th>\n",
       "      <td>3</td>\n",
       "      <td>0</td>\n",
       "      <td>@RailMinIndia I'm traveling to chennai by trai...</td>\n",
       "      <td>im traveling chennai train coach s my berth di...</td>\n",
       "    </tr>\n",
       "    <tr>\n",
       "      <th>3</th>\n",
       "      <td>4</td>\n",
       "      <td>5</td>\n",
       "      <td>@RailMinIndia irctc is not responding at the t...</td>\n",
       "      <td>irctc responding time tatkal booking</td>\n",
       "    </tr>\n",
       "    <tr>\n",
       "      <th>4</th>\n",
       "      <td>5</td>\n",
       "      <td>7</td>\n",
       "      <td>@DRMbhopal @RailMinIndia @sanjaygupta2012 @drm...</td>\n",
       "      <td>matter notified concerned official</td>\n",
       "    </tr>\n",
       "  </tbody>\n",
       "</table>\n",
       "</div>"
      ],
      "text/plain": [
       "   Item ID  Sentiment                                      SentimentText  \\\n",
       "0        1          0  @RailMinIndia My PNR is 8348062961, I am in wa...   \n",
       "1        2          0  @sureshpprabhu @RailMinIndia AC not working in...   \n",
       "2        3          0  @RailMinIndia I'm traveling to chennai by trai...   \n",
       "3        4          5  @RailMinIndia irctc is not responding at the t...   \n",
       "4        5          7  @DRMbhopal @RailMinIndia @sanjaygupta2012 @drm...   \n",
       "\n",
       "                                          Clean_text  \n",
       "0  my pnr i way water toilet mess everywhere coac...  \n",
       "1  ac working prayag lucknow intercity today depa...  \n",
       "2  im traveling chennai train coach s my berth di...  \n",
       "3               irctc responding time tatkal booking  \n",
       "4                 matter notified concerned official  "
      ]
     },
     "execution_count": 25,
     "metadata": {},
     "output_type": "execute_result"
    }
   ],
   "source": [
    "data.head()"
   ]
  },
  {
   "cell_type": "code",
   "execution_count": 26,
   "metadata": {},
   "outputs": [
    {
     "data": {
      "text/plain": [
       "(1366, 4)"
      ]
     },
     "execution_count": 26,
     "metadata": {},
     "output_type": "execute_result"
    }
   ],
   "source": [
    "data.shape"
   ]
  },
  {
   "cell_type": "code",
   "execution_count": 27,
   "metadata": {},
   "outputs": [],
   "source": [
    "tfidf_df['label'] = data['Sentiment']"
   ]
  },
  {
   "cell_type": "code",
   "execution_count": 28,
   "metadata": {},
   "outputs": [
    {
     "data": {
      "text/html": [
       "<div>\n",
       "<style scoped>\n",
       "    .dataframe tbody tr th:only-of-type {\n",
       "        vertical-align: middle;\n",
       "    }\n",
       "\n",
       "    .dataframe tbody tr th {\n",
       "        vertical-align: top;\n",
       "    }\n",
       "\n",
       "    .dataframe thead th {\n",
       "        text-align: right;\n",
       "    }\n",
       "</style>\n",
       "<table border=\"1\" class=\"dataframe\">\n",
       "  <thead>\n",
       "    <tr style=\"text-align: right;\">\n",
       "      <th></th>\n",
       "      <th>Item ID</th>\n",
       "      <th>Sentiment</th>\n",
       "      <th>SentimentText</th>\n",
       "      <th>Clean_text</th>\n",
       "    </tr>\n",
       "  </thead>\n",
       "  <tbody>\n",
       "    <tr>\n",
       "      <th>0</th>\n",
       "      <td>1</td>\n",
       "      <td>0</td>\n",
       "      <td>@RailMinIndia My PNR is 8348062961, I am in wa...</td>\n",
       "      <td>my pnr i way water toilet mess everywhere coac...</td>\n",
       "    </tr>\n",
       "    <tr>\n",
       "      <th>1</th>\n",
       "      <td>2</td>\n",
       "      <td>0</td>\n",
       "      <td>@sureshpprabhu @RailMinIndia AC not working in...</td>\n",
       "      <td>ac working prayag lucknow intercity today depa...</td>\n",
       "    </tr>\n",
       "  </tbody>\n",
       "</table>\n",
       "</div>"
      ],
      "text/plain": [
       "   Item ID  Sentiment                                      SentimentText  \\\n",
       "0        1          0  @RailMinIndia My PNR is 8348062961, I am in wa...   \n",
       "1        2          0  @sureshpprabhu @RailMinIndia AC not working in...   \n",
       "\n",
       "                                          Clean_text  \n",
       "0  my pnr i way water toilet mess everywhere coac...  \n",
       "1  ac working prayag lucknow intercity today depa...  "
      ]
     },
     "execution_count": 28,
     "metadata": {},
     "output_type": "execute_result"
    }
   ],
   "source": [
    "data.head(2)"
   ]
  },
  {
   "cell_type": "code",
   "execution_count": 29,
   "metadata": {},
   "outputs": [
    {
     "data": {
      "text/html": [
       "<div>\n",
       "<style scoped>\n",
       "    .dataframe tbody tr th:only-of-type {\n",
       "        vertical-align: middle;\n",
       "    }\n",
       "\n",
       "    .dataframe tbody tr th {\n",
       "        vertical-align: top;\n",
       "    }\n",
       "\n",
       "    .dataframe thead th {\n",
       "        text-align: right;\n",
       "    }\n",
       "</style>\n",
       "<table border=\"1\" class=\"dataframe\">\n",
       "  <thead>\n",
       "    <tr style=\"text-align: right;\">\n",
       "      <th></th>\n",
       "      <th>aadhar</th>\n",
       "      <th>aaj</th>\n",
       "      <th>aap</th>\n",
       "      <th>aapne</th>\n",
       "      <th>aati</th>\n",
       "      <th>aaye</th>\n",
       "      <th>aayen</th>\n",
       "      <th>ab</th>\n",
       "      <th>abhi</th>\n",
       "      <th>abhiyaan</th>\n",
       "      <th>...</th>\n",
       "      <th>yuva</th>\n",
       "      <th>zee</th>\n",
       "      <th>ziyarat</th>\n",
       "      <th>zonal</th>\n",
       "      <th>zone</th>\n",
       "      <th>âïâïâïâï</th>\n",
       "      <th>ðhighlander</th>\n",
       "      <th>ðquirky</th>\n",
       "      <th>ðââï</th>\n",
       "      <th>label</th>\n",
       "    </tr>\n",
       "  </thead>\n",
       "  <tbody>\n",
       "    <tr>\n",
       "      <th>0</th>\n",
       "      <td>0.0</td>\n",
       "      <td>0.0</td>\n",
       "      <td>0.0</td>\n",
       "      <td>0.0</td>\n",
       "      <td>0.0</td>\n",
       "      <td>0.0</td>\n",
       "      <td>0.0</td>\n",
       "      <td>0.0</td>\n",
       "      <td>0.0</td>\n",
       "      <td>0.0</td>\n",
       "      <td>...</td>\n",
       "      <td>0.0</td>\n",
       "      <td>0.0</td>\n",
       "      <td>0.0</td>\n",
       "      <td>0.0</td>\n",
       "      <td>0.0</td>\n",
       "      <td>0.0</td>\n",
       "      <td>0.0</td>\n",
       "      <td>0.0</td>\n",
       "      <td>0.0</td>\n",
       "      <td>0</td>\n",
       "    </tr>\n",
       "    <tr>\n",
       "      <th>1</th>\n",
       "      <td>0.0</td>\n",
       "      <td>0.0</td>\n",
       "      <td>0.0</td>\n",
       "      <td>0.0</td>\n",
       "      <td>0.0</td>\n",
       "      <td>0.0</td>\n",
       "      <td>0.0</td>\n",
       "      <td>0.0</td>\n",
       "      <td>0.0</td>\n",
       "      <td>0.0</td>\n",
       "      <td>...</td>\n",
       "      <td>0.0</td>\n",
       "      <td>0.0</td>\n",
       "      <td>0.0</td>\n",
       "      <td>0.0</td>\n",
       "      <td>0.0</td>\n",
       "      <td>0.0</td>\n",
       "      <td>0.0</td>\n",
       "      <td>0.0</td>\n",
       "      <td>0.0</td>\n",
       "      <td>0</td>\n",
       "    </tr>\n",
       "    <tr>\n",
       "      <th>2</th>\n",
       "      <td>0.0</td>\n",
       "      <td>0.0</td>\n",
       "      <td>0.0</td>\n",
       "      <td>0.0</td>\n",
       "      <td>0.0</td>\n",
       "      <td>0.0</td>\n",
       "      <td>0.0</td>\n",
       "      <td>0.0</td>\n",
       "      <td>0.0</td>\n",
       "      <td>0.0</td>\n",
       "      <td>...</td>\n",
       "      <td>0.0</td>\n",
       "      <td>0.0</td>\n",
       "      <td>0.0</td>\n",
       "      <td>0.0</td>\n",
       "      <td>0.0</td>\n",
       "      <td>0.0</td>\n",
       "      <td>0.0</td>\n",
       "      <td>0.0</td>\n",
       "      <td>0.0</td>\n",
       "      <td>0</td>\n",
       "    </tr>\n",
       "    <tr>\n",
       "      <th>3</th>\n",
       "      <td>0.0</td>\n",
       "      <td>0.0</td>\n",
       "      <td>0.0</td>\n",
       "      <td>0.0</td>\n",
       "      <td>0.0</td>\n",
       "      <td>0.0</td>\n",
       "      <td>0.0</td>\n",
       "      <td>0.0</td>\n",
       "      <td>0.0</td>\n",
       "      <td>0.0</td>\n",
       "      <td>...</td>\n",
       "      <td>0.0</td>\n",
       "      <td>0.0</td>\n",
       "      <td>0.0</td>\n",
       "      <td>0.0</td>\n",
       "      <td>0.0</td>\n",
       "      <td>0.0</td>\n",
       "      <td>0.0</td>\n",
       "      <td>0.0</td>\n",
       "      <td>0.0</td>\n",
       "      <td>5</td>\n",
       "    </tr>\n",
       "    <tr>\n",
       "      <th>4</th>\n",
       "      <td>0.0</td>\n",
       "      <td>0.0</td>\n",
       "      <td>0.0</td>\n",
       "      <td>0.0</td>\n",
       "      <td>0.0</td>\n",
       "      <td>0.0</td>\n",
       "      <td>0.0</td>\n",
       "      <td>0.0</td>\n",
       "      <td>0.0</td>\n",
       "      <td>0.0</td>\n",
       "      <td>...</td>\n",
       "      <td>0.0</td>\n",
       "      <td>0.0</td>\n",
       "      <td>0.0</td>\n",
       "      <td>0.0</td>\n",
       "      <td>0.0</td>\n",
       "      <td>0.0</td>\n",
       "      <td>0.0</td>\n",
       "      <td>0.0</td>\n",
       "      <td>0.0</td>\n",
       "      <td>7</td>\n",
       "    </tr>\n",
       "  </tbody>\n",
       "</table>\n",
       "<p>5 rows × 3885 columns</p>\n",
       "</div>"
      ],
      "text/plain": [
       "   aadhar  aaj  aap  aapne  aati  aaye  aayen   ab  abhi  abhiyaan  ...  yuva  \\\n",
       "0     0.0  0.0  0.0    0.0   0.0   0.0    0.0  0.0   0.0       0.0  ...   0.0   \n",
       "1     0.0  0.0  0.0    0.0   0.0   0.0    0.0  0.0   0.0       0.0  ...   0.0   \n",
       "2     0.0  0.0  0.0    0.0   0.0   0.0    0.0  0.0   0.0       0.0  ...   0.0   \n",
       "3     0.0  0.0  0.0    0.0   0.0   0.0    0.0  0.0   0.0       0.0  ...   0.0   \n",
       "4     0.0  0.0  0.0    0.0   0.0   0.0    0.0  0.0   0.0       0.0  ...   0.0   \n",
       "\n",
       "   zee  ziyarat  zonal  zone  âïâïâïâï  ðhighlander  ðquirky  ðââï  label  \n",
       "0  0.0      0.0    0.0   0.0       0.0          0.0      0.0   0.0      0  \n",
       "1  0.0      0.0    0.0   0.0       0.0          0.0      0.0   0.0      0  \n",
       "2  0.0      0.0    0.0   0.0       0.0          0.0      0.0   0.0      0  \n",
       "3  0.0      0.0    0.0   0.0       0.0          0.0      0.0   0.0      5  \n",
       "4  0.0      0.0    0.0   0.0       0.0          0.0      0.0   0.0      7  \n",
       "\n",
       "[5 rows x 3885 columns]"
      ]
     },
     "execution_count": 29,
     "metadata": {},
     "output_type": "execute_result"
    }
   ],
   "source": [
    "tfidf_df.head()"
   ]
  },
  {
   "cell_type": "code",
   "execution_count": 30,
   "metadata": {},
   "outputs": [],
   "source": [
    "tfidf_df.to_csv('./data/tfidf.csv' , index=False)"
   ]
  },
  {
   "cell_type": "markdown",
   "metadata": {},
   "source": [
    "## things to be added in pipeline\n",
    "\n",
    "- cleaning function save \n",
    "- lematization model\n",
    "- tfidfvectirozeer\n",
    "- classification ml model\n",
    "\n",
    "## label mapping\n",
    "\n",
    "- 0: 'Cleanliness',\n",
    "- 1: 'Others',\n",
    "- 2: 'Medical issues',\n",
    "- 3: 'Food Services',\n",
    "- 4: 'Train Delay',\n",
    "- 5: 'Ticket issues',\n",
    "- 6:  No use,\n",
    "- 7:  No use\n",
    "\n"
   ]
  },
  {
   "cell_type": "code",
   "execution_count": 31,
   "metadata": {},
   "outputs": [],
   "source": [
    "with open('tfidf_vecterizor.pkl','wb') as file :\n",
    "    pickle.dump(tfidf_vectorizer,file)"
   ]
  },
  {
   "cell_type": "code",
   "execution_count": 150,
   "metadata": {},
   "outputs": [],
   "source": []
  },
  {
   "cell_type": "code",
   "execution_count": null,
   "metadata": {},
   "outputs": [],
   "source": []
  },
  {
   "cell_type": "code",
   "execution_count": null,
   "metadata": {},
   "outputs": [],
   "source": []
  },
  {
   "cell_type": "code",
   "execution_count": null,
   "metadata": {},
   "outputs": [],
   "source": []
  },
  {
   "cell_type": "code",
   "execution_count": null,
   "metadata": {},
   "outputs": [],
   "source": []
  },
  {
   "cell_type": "code",
   "execution_count": null,
   "metadata": {},
   "outputs": [],
   "source": []
  }
 ],
 "metadata": {
  "kernelspec": {
   "display_name": "Python 3",
   "language": "python",
   "name": "python3"
  },
  "language_info": {
   "codemirror_mode": {
    "name": "ipython",
    "version": 3
   },
   "file_extension": ".py",
   "mimetype": "text/x-python",
   "name": "python",
   "nbconvert_exporter": "python",
   "pygments_lexer": "ipython3",
   "version": "3.10.16"
  }
 },
 "nbformat": 4,
 "nbformat_minor": 2
}
