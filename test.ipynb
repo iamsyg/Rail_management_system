{
 "cells": [
  {
   "cell_type": "code",
   "execution_count": null,
   "metadata": {},
   "outputs": [
    {
     "name": "stdout",
     "output_type": "stream",
     "text": [
      "Predicted category: 5\n"
     ]
    }
   ],
   "source": [
    "from utils.cleaner import clean_text\n",
    "import pickle\n",
    "import pandas as pd\n",
    "\n",
    "from sklearn.pipeline import Pipeline\n",
    "from sklearn.preprocessing import FunctionTransformer\n",
    "\n",
    "\n",
    "with open('./models/classiffication_model.pkl','rb') as file :\n",
    "    classification_model = pickle.load(file)\n",
    "with open ('./models/tfidf_vecterizor.pkl','rb') as file:\n",
    "    vectorizor = pickle.load(file)\n",
    "\n",
    "# transforming the function to use it in the pipeline\n",
    "text_cleaner = FunctionTransformer(lambda x: x.apply(clean_text), validate=False)\n",
    "\n",
    "# crreating pipeline\n",
    "pipeline = Pipeline([\n",
    "    ('cleaner',text_cleaner),\n",
    "    ('vectorizer',vectorizor),\n",
    "    ('classifier',classification_model)\n",
    "])\n",
    "\n",
    "    \n",
    "input_text = \"\"\n",
    "\n",
    "user_df = pd.Series(input_text)\n",
    "prediction = pipeline.predict(user_df)\n",
    "    \n",
    "print(\"Predicted category:\", prediction[0])\n"
   ]
  },
  {
   "cell_type": "code",
   "execution_count": 5,
   "metadata": {},
   "outputs": [
    {
     "name": "stdout",
     "output_type": "stream",
     "text": [
      "['tfidf_vecterizor.pkl', 'classiffication_model.pkl']\n"
     ]
    }
   ],
   "source": [
    "import os\n",
    "print(os.listdir('models'))\n"
   ]
  },
  {
   "cell_type": "code",
   "execution_count": null,
   "metadata": {},
   "outputs": [],
   "source": []
  }
 ],
 "metadata": {
  "kernelspec": {
   "display_name": "Python 3",
   "language": "python",
   "name": "python3"
  },
  "language_info": {
   "codemirror_mode": {
    "name": "ipython",
    "version": 3
   },
   "file_extension": ".py",
   "mimetype": "text/x-python",
   "name": "python",
   "nbconvert_exporter": "python",
   "pygments_lexer": "ipython3",
   "version": "3.10.16"
  }
 },
 "nbformat": 4,
 "nbformat_minor": 2
}
