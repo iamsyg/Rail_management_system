{
 "cells": [
  {
   "cell_type": "code",
   "execution_count": null,
   "metadata": {},
   "outputs": [
    {
     "name": "stdout",
     "output_type": "stream",
     "text": [
      "Predicted category: 5\n"
     ]
    }
   ],
   "source": [
    "from utils.cleaner import clean_text\n",
    "import pickle\n",
    "import pandas as pd\n",
    "\n",
    "from sklearn.pipeline import Pipeline\n",
    "from sklearn.preprocessing import FunctionTransformer\n",
    "\n",
    "\n",
    "with open('./models/classiffication_model.pkl','rb') as file :\n",
    "    classification_model = pickle.load(file)\n",
    "with open ('./models/tfidf_vecterizor.pkl','rb') as file:\n",
    "    vectorizor = pickle.load(file)\n",
    "\n",
    "# transforming the function to use it in the pipeline\n",
    "text_cleaner = FunctionTransformer(lambda x: x.apply(clean_text), validate=False)\n",
    "\n",
    "# crreating pipeline\n",
    "pipeline = Pipeline([\n",
    "    ('cleaner',text_cleaner),\n",
    "    ('vectorizer',vectorizor),\n",
    "    ('classifier',classification_model)\n",
    "])\n",
    "\n",
    "    \n",
    "input_text = \"\"\n",
    "\n",
    "user_df = pd.Series(input_text)\n",
    "prediction = pipeline.predict(user_df)\n",
    "    \n",
    "print(\"Predicted category:\", prediction[0])\n"
   ]
  },
  {
   "cell_type": "code",
   "execution_count": 5,
   "metadata": {},
   "outputs": [
    {
     "name": "stdout",
     "output_type": "stream",
     "text": [
      "['tfidf_vecterizor.pkl', 'classiffication_model.pkl']\n"
     ]
    }
   ],
   "source": [
    "import os\n",
    "print(os.listdir('models'))\n"
   ]
  },
  {
   "cell_type": "code",
   "execution_count": 1,
   "metadata": {},
   "outputs": [],
   "source": [
    "from website.app.pages.api.user.auth import get_logged_in_user"
   ]
  },
  {
   "cell_type": "code",
   "execution_count": 4,
   "metadata": {},
   "outputs": [
    {
     "ename": "RuntimeError",
     "evalue": "Working outside of request context.\n\nThis typically means that you attempted to use functionality that needed\nan active HTTP request. Consult the documentation on testing for\ninformation about how to avoid this problem.",
     "output_type": "error",
     "traceback": [
      "\u001b[0;31m---------------------------------------------------------------------------\u001b[0m",
      "\u001b[0;31mRuntimeError\u001b[0m                              Traceback (most recent call last)",
      "Cell \u001b[0;32mIn[4], line 1\u001b[0m\n\u001b[0;32m----> 1\u001b[0m user_details \u001b[38;5;241m=\u001b[39m \u001b[43mget_logged_in_user\u001b[49m\u001b[43m(\u001b[49m\u001b[43m)\u001b[49m\n",
      "File \u001b[0;32m~/Projects/rail_management_system/venv/lib/python3.10/site-packages/flask_jwt_extended/view_decorators.py:167\u001b[0m, in \u001b[0;36mjwt_required.<locals>.wrapper.<locals>.decorator\u001b[0;34m(*args, **kwargs)\u001b[0m\n\u001b[1;32m    165\u001b[0m \u001b[38;5;129m@wraps\u001b[39m(fn)\n\u001b[1;32m    166\u001b[0m \u001b[38;5;28;01mdef\u001b[39;00m\u001b[38;5;250m \u001b[39m\u001b[38;5;21mdecorator\u001b[39m(\u001b[38;5;241m*\u001b[39margs, \u001b[38;5;241m*\u001b[39m\u001b[38;5;241m*\u001b[39mkwargs):\n\u001b[0;32m--> 167\u001b[0m     \u001b[43mverify_jwt_in_request\u001b[49m\u001b[43m(\u001b[49m\n\u001b[1;32m    168\u001b[0m \u001b[43m        \u001b[49m\u001b[43moptional\u001b[49m\u001b[43m,\u001b[49m\u001b[43m \u001b[49m\u001b[43mfresh\u001b[49m\u001b[43m,\u001b[49m\u001b[43m \u001b[49m\u001b[43mrefresh\u001b[49m\u001b[43m,\u001b[49m\u001b[43m \u001b[49m\u001b[43mlocations\u001b[49m\u001b[43m,\u001b[49m\u001b[43m \u001b[49m\u001b[43mverify_type\u001b[49m\u001b[43m,\u001b[49m\u001b[43m \u001b[49m\u001b[43mskip_revocation_check\u001b[49m\n\u001b[1;32m    169\u001b[0m \u001b[43m    \u001b[49m\u001b[43m)\u001b[49m\n\u001b[1;32m    170\u001b[0m     \u001b[38;5;28;01mreturn\u001b[39;00m current_app\u001b[38;5;241m.\u001b[39mensure_sync(fn)(\u001b[38;5;241m*\u001b[39margs, \u001b[38;5;241m*\u001b[39m\u001b[38;5;241m*\u001b[39mkwargs)\n",
      "File \u001b[0;32m~/Projects/rail_management_system/venv/lib/python3.10/site-packages/flask_jwt_extended/view_decorators.py:90\u001b[0m, in \u001b[0;36mverify_jwt_in_request\u001b[0;34m(optional, fresh, refresh, locations, verify_type, skip_revocation_check)\u001b[0m\n\u001b[1;32m     45\u001b[0m \u001b[38;5;28;01mdef\u001b[39;00m\u001b[38;5;250m \u001b[39m\u001b[38;5;21mverify_jwt_in_request\u001b[39m(\n\u001b[1;32m     46\u001b[0m     optional: \u001b[38;5;28mbool\u001b[39m \u001b[38;5;241m=\u001b[39m \u001b[38;5;28;01mFalse\u001b[39;00m,\n\u001b[1;32m     47\u001b[0m     fresh: \u001b[38;5;28mbool\u001b[39m \u001b[38;5;241m=\u001b[39m \u001b[38;5;28;01mFalse\u001b[39;00m,\n\u001b[0;32m   (...)\u001b[0m\n\u001b[1;32m     51\u001b[0m     skip_revocation_check: \u001b[38;5;28mbool\u001b[39m \u001b[38;5;241m=\u001b[39m \u001b[38;5;28;01mFalse\u001b[39;00m,\n\u001b[1;32m     52\u001b[0m ) \u001b[38;5;241m-\u001b[39m\u001b[38;5;241m>\u001b[39m Optional[Tuple[\u001b[38;5;28mdict\u001b[39m, \u001b[38;5;28mdict\u001b[39m]]:\n\u001b[1;32m     53\u001b[0m \u001b[38;5;250m    \u001b[39m\u001b[38;5;124;03m\"\"\"\u001b[39;00m\n\u001b[1;32m     54\u001b[0m \u001b[38;5;124;03m    Verify that a valid JWT is present in the request, unless ``optional=True`` in\u001b[39;00m\n\u001b[1;32m     55\u001b[0m \u001b[38;5;124;03m    which case no JWT is also considered valid.\u001b[39;00m\n\u001b[0;32m   (...)\u001b[0m\n\u001b[1;32m     88\u001b[0m \u001b[38;5;124;03m        is in the request.\u001b[39;00m\n\u001b[1;32m     89\u001b[0m \u001b[38;5;124;03m    \"\"\"\u001b[39;00m\n\u001b[0;32m---> 90\u001b[0m     \u001b[38;5;28;01mif\u001b[39;00m \u001b[43mrequest\u001b[49m\u001b[38;5;241;43m.\u001b[39;49m\u001b[43mmethod\u001b[49m \u001b[38;5;129;01min\u001b[39;00m config\u001b[38;5;241m.\u001b[39mexempt_methods:\n\u001b[1;32m     91\u001b[0m         \u001b[38;5;28;01mreturn\u001b[39;00m \u001b[38;5;28;01mNone\u001b[39;00m\n\u001b[1;32m     93\u001b[0m     \u001b[38;5;28;01mtry\u001b[39;00m:\n",
      "File \u001b[0;32m~/Projects/rail_management_system/venv/lib/python3.10/site-packages/werkzeug/local.py:318\u001b[0m, in \u001b[0;36m_ProxyLookup.__get__\u001b[0;34m(self, instance, owner)\u001b[0m\n\u001b[1;32m    315\u001b[0m     \u001b[38;5;28;01mreturn\u001b[39;00m \u001b[38;5;28mself\u001b[39m\n\u001b[1;32m    317\u001b[0m \u001b[38;5;28;01mtry\u001b[39;00m:\n\u001b[0;32m--> 318\u001b[0m     obj \u001b[38;5;241m=\u001b[39m \u001b[43minstance\u001b[49m\u001b[38;5;241;43m.\u001b[39;49m\u001b[43m_get_current_object\u001b[49m\u001b[43m(\u001b[49m\u001b[43m)\u001b[49m\n\u001b[1;32m    319\u001b[0m \u001b[38;5;28;01mexcept\u001b[39;00m \u001b[38;5;167;01mRuntimeError\u001b[39;00m:\n\u001b[1;32m    320\u001b[0m     \u001b[38;5;28;01mif\u001b[39;00m \u001b[38;5;28mself\u001b[39m\u001b[38;5;241m.\u001b[39mfallback \u001b[38;5;129;01mis\u001b[39;00m \u001b[38;5;28;01mNone\u001b[39;00m:\n",
      "File \u001b[0;32m~/Projects/rail_management_system/venv/lib/python3.10/site-packages/werkzeug/local.py:519\u001b[0m, in \u001b[0;36mLocalProxy.__init__.<locals>._get_current_object\u001b[0;34m()\u001b[0m\n\u001b[1;32m    517\u001b[0m     obj \u001b[38;5;241m=\u001b[39m local\u001b[38;5;241m.\u001b[39mget()\n\u001b[1;32m    518\u001b[0m \u001b[38;5;28;01mexcept\u001b[39;00m \u001b[38;5;167;01mLookupError\u001b[39;00m:\n\u001b[0;32m--> 519\u001b[0m     \u001b[38;5;28;01mraise\u001b[39;00m \u001b[38;5;167;01mRuntimeError\u001b[39;00m(unbound_message) \u001b[38;5;28;01mfrom\u001b[39;00m\u001b[38;5;250m \u001b[39m\u001b[38;5;28;01mNone\u001b[39;00m\n\u001b[1;32m    521\u001b[0m \u001b[38;5;28;01mreturn\u001b[39;00m get_name(obj)\n",
      "\u001b[0;31mRuntimeError\u001b[0m: Working outside of request context.\n\nThis typically means that you attempted to use functionality that needed\nan active HTTP request. Consult the documentation on testing for\ninformation about how to avoid this problem."
     ]
    }
   ],
   "source": [
    "user_details = get_logged_in_user()"
   ]
  },
  {
   "cell_type": "code",
   "execution_count": 14,
   "metadata": {},
   "outputs": [],
   "source": [
    "from flask_sqlalchemy import SQLAlchemy\n",
    "from sqlalchemy.orm import Mapped, mapped_column, relationship\n",
    "\n",
    "\n",
    "app = Flask(__name__)\n",
    "\n",
    "# Point to your existing DB in the instance folder\n",
    "app.config['SQLALCHEMY_DATABASE_URI'] = 'sqlite:///../instance/users.db'\n",
    "app.config['SQLALCHEMY_TRACK_MODIFICATIONS'] = False\n",
    "\n",
    "db = SQLAlchemy(app)\n"
   ]
  },
  {
   "cell_type": "code",
   "execution_count": null,
   "metadata": {},
   "outputs": [],
   "source": []
  },
  {
   "cell_type": "code",
   "execution_count": 12,
   "metadata": {},
   "outputs": [
    {
     "name": "stdout",
     "output_type": "stream",
     "text": [
      "ex ex1@gmail.com e6cfc4a2-17c4-4feb-9f18-8f47bc50238c\n"
     ]
    }
   ],
   "source": [
    "from website.app.pages.api.user.models import User\n",
    "import threading\n",
    "import subprocess\n",
    "from flask import Flask\n",
    "from website.app.pages.api.user.server import app as flask_app , db\n",
    "with flask_app.app_context():\n",
    "    users = User.query.all()\n",
    "    for user in users:\n",
    "        print(user.name, user.email,user.id)\n"
   ]
  },
  {
   "cell_type": "code",
   "execution_count": 15,
   "metadata": {},
   "outputs": [],
   "source": [
    "# Inside User model\n",
    "complaints = relationship('Complaint', back_populates='user')\n",
    "\n",
    "# Inside Complaint model\n",
    "user = relationship('User', back_populates='complaints')\n",
    "    "
   ]
  },
  {
   "cell_type": "code",
   "execution_count": 16,
   "metadata": {},
   "outputs": [
    {
     "name": "stdout",
     "output_type": "stream",
     "text": [
      "User: ex (ex1@gmail.com)\n",
      "  - Complaint: rfuyabiubejdbfiawerbfiunejfhaerbfqjfbwhbozoikmweij sebfuaerfiurebfiu WEHFIWUVAFFBI IUWEHFIUEARGUHBA dknjfbjinf\n",
      "  - Complaint: vhbfhdbckjABZuydbjkebguybnws vhjr akjebfhrbfkawe f iwbdje hjfbaj\n",
      "  - Complaint: rhthdfvszevdfbc dfbsvfbhnhc\n"
     ]
    }
   ],
   "source": [
    "from website.app.pages.api.user.models import User\n",
    "from website.app.pages.api.user.server import app as flask_app, db\n",
    "\n",
    "with flask_app.app_context():\n",
    "    users = User.query.all()\n",
    "    for user in users:\n",
    "        print(f\"User: {user.name} ({user.email})\")\n",
    "        for complaint in user.complaints:\n",
    "            print(f\"  - Complaint: {complaint.complaint}\")\n"
   ]
  },
  {
   "cell_type": "code",
   "execution_count": null,
   "metadata": {},
   "outputs": [],
   "source": [
    "complain_map = {'0': 'Cleanliness',\n",
    "'1': 'Others',\n",
    "'2': 'Medical issues',\n",
    "'3': 'Food Services',\n",
    "'4': 'Train Delay',\n",
    "'5': 'Ticket issues',\n",
    "'6':  'No use',\n",
    "'7':  'No use'\n",
    "}"
   ]
  },
  {
   "cell_type": "code",
   "execution_count": 35,
   "metadata": {},
   "outputs": [
    {
     "name": "stdout",
     "output_type": "stream",
     "text": [
      "The processing complaint ID is d4ada2f8-0717-4df3-86f8-83627cc8be56,Text: rfuyabiubejdbfiawerbfiunejfhaerbfqjfbwhbozoikmweij sebfuaerfiurebfiu WEHFIWUVAFFBI IUWEHFIUEARGUHBA dknjfbjinf\n",
      "Ticket issues\n",
      "The processing complaint ID is 446bcf07-e874-4a5b-a686-d29f7a218540,Text: vhbfhdbckjABZuydbjkebguybnws vhjr akjebfhrbfkawe f iwbdje hjfbaj\n",
      "Ticket issues\n",
      "The processing complaint ID is 944ef056-8d0b-45a4-b535-23e28e24f19a,Text: rhthdfvszevdfbc dfbsvfbhnhc\n",
      "Ticket issues\n",
      "The processing complaint ID is 12f59dd0-ba8e-4e8c-9e75-c964265cfaff,Text: @IRCTC_Ltd @RailMinIndia @RailMinIndia   Take some serious action on these people who is not understand rules and l󿿢󿾀󿾦 https://t.co/BQyjpBMNSn\n",
      "Ticket issues\n",
      "The processing complaint ID is 8ee0319b-02de-439d-8cc1-1b6bc5124742,Text: #IncredibleIndia In Journey tym of 12 hrs, trn is running late by almost same tym. Leads to frustration whn v don't󿿢󿾀󿾦 https://t.co/D8fQiwy8IG\n",
      "Train Delay\n",
      "The processing complaint ID is bbdc53ce-07ca-4ac5-9c80-b134ba354bc2,Text: @RailMinIndia I was expecting some strict action on overcharging but instead received a mail stating counseling will be done for them.\n",
      "Ticket issues\n",
      "The processing complaint ID is 9940333d-748c-41f2-b6b4-1f727923c241,Text: @RailMinIndia @drmdelhi water point vendor at PF 1 charging extra money for water without any reason.\n",
      "Food Services\n",
      "The processing complaint ID is 8e85c92d-ba7e-4c1f-9884-71266cff2cc2,Text: @RailMinIndia @sureshpprabhu  what is the benefit of paying 2000-3000 for sleeper tickets when train is running late https://t.co/g0p0TxfZGZ\n",
      "Train Delay\n",
      "The processing complaint ID is 05c0d141-08d2-4200-98d9-27d3ffca88c4,Text: zkj vhd vj h ajz cinaubuzlibjzdhbjjnvjnin bibcnzlininzsieufrkjfzlijflaisdjb sbefkuaebfkhbsd zbshbfkzkjsdj\n",
      "Ticket issues\n"
     ]
    },
    {
     "name": "stderr",
     "output_type": "stream",
     "text": [
      "/home/nihar/Projects/rail_management_system/venv/lib/python3.10/site-packages/sklearn/utils/validation.py:2739: UserWarning: X does not have valid feature names, but MultinomialNB was fitted with feature names\n",
      "  warnings.warn(\n"
     ]
    },
    {
     "name": "stdout",
     "output_type": "stream",
     "text": [
      "✅ Successfully processed and updated 100 complaints.\n"
     ]
    }
   ],
   "source": [
    "from website.app.pages.api.user.models import Complaint\n",
    "from website.app.pages.api.user.server import app as flask_app , db\n",
    "\n",
    "# functions and imports for machine learing pipeline\n",
    "from utils.cleaner import clean_text\n",
    "import pickle\n",
    "import pandas as pd\n",
    "\n",
    "from sklearn.pipeline import Pipeline\n",
    "from sklearn.preprocessing import FunctionTransformer\n",
    "\n",
    "#importing models\n",
    "with open('./models/classiffication_model.pkl','rb') as file :\n",
    "    classification_model = pickle.load(file)\n",
    "with open ('./models/tfidf_vecterizor.pkl','rb') as file:\n",
    "    vectorizor = pickle.load(file)\n",
    "\n",
    "# transforming the function to use it in the pipeline\n",
    "text_cleaner = FunctionTransformer(lambda x: x.apply(clean_text), validate=False)\n",
    "\n",
    "# crreating pipeline\n",
    "pipeline = Pipeline([\n",
    "    ('cleaner',text_cleaner),\n",
    "    ('vectorizer',vectorizor),\n",
    "    ('classifier',classification_model)\n",
    "])\n",
    "\n",
    "complain_map = {'0': 'Cleanliness',\n",
    "1: 'Others',\n",
    "2: 'Medical issues',\n",
    "3: 'Food Services',\n",
    "4: 'Train Delay',\n",
    "5: 'Ticket issues',\n",
    "6:  'No use',\n",
    "7:  'No use'\n",
    "}\n",
    "\n",
    "with flask_app.app_context():\n",
    "    unclassified_complains = Complaint.query.filter(\n",
    "        Complaint.classification == None\n",
    "    ).limit(100).all()\n",
    "    \n",
    "    for complaint in unclassified_complains :\n",
    "        print (f\"The processing complaint ID is {complaint.id},Text: {complaint.complaint}\")\n",
    "        complain_series = pd.Series([complaint.complaint])\n",
    "        \n",
    "        predicted_result = pipeline.predict(complain_series)  \n",
    "        category = complain_map[predicted_result[0]]\n",
    "        print(category)\n",
    "        \n",
    "        complaint.classification = category\n",
    "        \n",
    "    db.session.commit()\n",
    "    print(\"✅ Successfully processed and updated 100 complaints.\")\n",
    "        "
   ]
  },
  {
   "cell_type": "code",
   "execution_count": 20,
   "metadata": {},
   "outputs": [
    {
     "data": {
      "text/plain": [
       "Complaint(id=d4ada2f8-0717-4df3-86f8-83627cc8be56, PNR=1234567891, complaint=rfuyabiubejdbfiawerbfiunejfhaerbfqjfbwhbozoikmweij sebfuaerfiurebfiu WEHFIWUVAFFBI IUWEHFIUEARGUHBA dknjfbjinf)"
      ]
     },
     "execution_count": 20,
     "metadata": {},
     "output_type": "execute_result"
    }
   ],
   "source": [
    "complaint"
   ]
  },
  {
   "cell_type": "code",
   "execution_count": null,
   "metadata": {},
   "outputs": [],
   "source": []
  },
  {
   "cell_type": "code",
   "execution_count": null,
   "metadata": {},
   "outputs": [],
   "source": []
  },
  {
   "cell_type": "code",
   "execution_count": null,
   "metadata": {},
   "outputs": [],
   "source": []
  },
  {
   "cell_type": "code",
   "execution_count": null,
   "metadata": {},
   "outputs": [],
   "source": []
  },
  {
   "cell_type": "code",
   "execution_count": null,
   "metadata": {},
   "outputs": [],
   "source": []
  }
 ],
 "metadata": {
  "kernelspec": {
   "display_name": "Python 3",
   "language": "python",
   "name": "python3"
  },
  "language_info": {
   "codemirror_mode": {
    "name": "ipython",
    "version": 3
   },
   "file_extension": ".py",
   "mimetype": "text/x-python",
   "name": "python",
   "nbconvert_exporter": "python",
   "pygments_lexer": "ipython3",
   "version": "3.10.16"
  }
 },
 "nbformat": 4,
 "nbformat_minor": 2
}
